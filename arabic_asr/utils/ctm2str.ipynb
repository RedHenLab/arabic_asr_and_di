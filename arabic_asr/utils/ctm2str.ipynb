{
 "cells": [
  {
   "cell_type": "code",
   "execution_count": 38,
   "metadata": {},
   "outputs": [],
   "source": [
    "import codecs\n",
    "from datetime import timedelta\n",
    "from transliteration import transliterate"
   ]
  },
  {
   "cell_type": "markdown",
   "metadata": {},
   "source": [
    "Read CTM file"
   ]
  },
  {
   "cell_type": "code",
   "execution_count": 45,
   "metadata": {},
   "outputs": [],
   "source": [
    "ctm_file_path = ('/media/ai/storage/kaldi/500_hrs/exp/nnet3/tdnn_reduced'\n",
    "                 '/decode_test_redhen_sample/1.ctm')\n",
    "srt_file_path = ('/media/ai/storage/kaldi/500_hrs/exp/nnet3/tdnn_reduced'\n",
    "                 '/decode_test_redhen_sample/1.srt')\n",
    "words_file_path = ('/home/ai/Programs/kaldi/egs/500_hrs/s5/data/lang/'\n",
    "                   'words.txt')\n",
    "input_format = 'buckwalter'\n",
    "output_format = 'unicode'"
   ]
  },
  {
   "cell_type": "markdown",
   "metadata": {},
   "source": [
    "Take groups of words in 2.5 seconds"
   ]
  },
  {
   "cell_type": "markdown",
   "metadata": {},
   "source": [
    "Print to SRT file"
   ]
  },
  {
   "cell_type": "code",
   "execution_count": 25,
   "metadata": {},
   "outputs": [],
   "source": [
    "def make_word_map(word_file_path):\n",
    "    word_map = dict()\n",
    "    with codecs.open(words_file_path, 'r') as words_file:\n",
    "        try:\n",
    "            for line in words_file:\n",
    "                word, word_num = line.strip().split()\n",
    "                word_map[word_num] = word\n",
    "        except Exception:\n",
    "            print(('Word file is not in specified format. Each line '\n",
    "                  'should be in the form: <word> <word_number>'))\n",
    "#             exit(1)\n",
    "    return word_map"
   ]
  },
  {
   "cell_type": "code",
   "execution_count": 26,
   "metadata": {},
   "outputs": [],
   "source": [
    "word_map = make_word_map(words_file_path)"
   ]
  },
  {
   "cell_type": "code",
   "execution_count": 42,
   "metadata": {},
   "outputs": [],
   "source": [
    "def word_nums2words(line, word_map):\n",
    "    line = ' '.join([word_map[word_num] for word_num in line.split()])\n",
    "    return line"
   ]
  },
  {
   "cell_type": "code",
   "execution_count": 30,
   "metadata": {},
   "outputs": [],
   "source": [
    "def format_time(time):\n",
    "    time_sec_frac = int(round(time - int(time), 3) * 1000)\n",
    "    time_sec = timedelta(seconds=int(time))\n",
    "    return str(time_sec) + ',' + str(time_sec_frac).zfill(3)"
   ]
  },
  {
   "cell_type": "code",
   "execution_count": 47,
   "metadata": {},
   "outputs": [],
   "source": [
    "def print_st(srt_file, index, lines, word_map, input_format=None,\n",
    "    output_format=None):\n",
    "    output = str(index + 1) + '\\n'\n",
    "    start_time = format_time(lines[0]['start_time'])\n",
    "    end_time = format_time(lines[-1]['start_time'] +\n",
    "                           lines[-1]['duration'])\n",
    "    output += start_time + ' --> ' + end_time + '\\n'\n",
    "    st = ' '.join([line['word_num'] for line in lines])\n",
    "    st = word_nums2words(st, word_map)\n",
    "    if input_format != None and output_format != None:\n",
    "        st = transliterate(st, input_format, output_format)\n",
    "    elif input_format == None and output_format != None:\n",
    "        raise Exception('Input format not specified.')\n",
    "    elif input_format != None and output_format == None:\n",
    "        raise Exception('Output format not specified.')\n",
    "    output += st + '\\n\\n'\n",
    "    srt_file.write(output)"
   ]
  },
  {
   "cell_type": "code",
   "execution_count": 48,
   "metadata": {},
   "outputs": [],
   "source": [
    "duration = 5\n",
    "start_time = 0\n",
    "lines = []\n",
    "index = 0\n",
    "srt_file = codecs.open(srt_file_path, 'w')\n",
    "with codecs.open(ctm_file_path, 'r') as ctm_file:\n",
    "    for line in ctm_file:\n",
    "        line = line.strip().split()\n",
    "        line = {'utt_id': line[0], 'channel': line[1],\n",
    "                'start_time': float(line[2]),\n",
    "                'duration': float(line[3]), 'word_num': line[4],\n",
    "                'confidence': float(line[5])}\n",
    "        if line['start_time'] >= start_time + duration:\n",
    "            if lines != []:\n",
    "                print_st(srt_file, index, lines, word_map,\n",
    "                        input_format, output_format)\n",
    "                index += 1\n",
    "            lines = [line]\n",
    "            start_time += duration\n",
    "        else:\n",
    "            lines.append(line)"
   ]
  },
  {
   "cell_type": "code",
   "execution_count": null,
   "metadata": {},
   "outputs": [],
   "source": [
    "len(word_nums)"
   ]
  },
  {
   "cell_type": "code",
   "execution_count": null,
   "metadata": {},
   "outputs": [],
   "source": [
    "ctm_file.close()"
   ]
  }
 ],
 "metadata": {
  "kernelspec": {
   "display_name": "dl",
   "language": "python",
   "name": "dl"
  },
  "language_info": {
   "codemirror_mode": {
    "name": "ipython",
    "version": 3
   },
   "file_extension": ".py",
   "mimetype": "text/x-python",
   "name": "python",
   "nbconvert_exporter": "python",
   "pygments_lexer": "ipython3",
   "version": "3.6.5"
  }
 },
 "nbformat": 4,
 "nbformat_minor": 2
}
