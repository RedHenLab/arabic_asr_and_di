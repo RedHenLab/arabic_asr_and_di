{
 "cells": [
  {
   "cell_type": "code",
   "execution_count": 50,
   "metadata": {},
   "outputs": [],
   "source": [
    "import dialect_enrollment\n",
    "import numpy as np\n",
    "import operator\n",
    "from sklearn.metrics import accuracy_score\n",
    "import scipy\n",
    "from utils.read_ivectors import read_ivectors_from_file, read_ivecs_set"
   ]
  },
  {
   "cell_type": "markdown",
   "metadata": {},
   "source": [
    "Read i-vectors for training and test data."
   ]
  },
  {
   "cell_type": "code",
   "execution_count": 2,
   "metadata": {},
   "outputs": [],
   "source": [
    "train_ivecs_dir_path = '/home/ai/Projects/dialectID/data/train.vardial2017/whitened'\n",
    "dev_ivecs_dir_path = '/home/ai/Projects/dialectID/data/dev.vardial2017/dev/normalized'\n",
    "test_ivecs_file_path = '/home/ai/Projects/dialectID/data/dev.vardial2017/test/normalized'\n",
    "dialects = ['EGY', 'GLF', 'LAV', 'MSA', 'NOR']"
   ]
  },
  {
   "cell_type": "code",
   "execution_count": 3,
   "metadata": {},
   "outputs": [],
   "source": [
    "train_ivecs = read_ivecs_set(train_ivecs_dir_path, dialects)\n",
    "dev_ivecs = read_ivecs_set(dev_ivecs_dir_path, dialects)\n",
    "test_ivecs = read_ivecs_set(test_ivecs_file_path, dialects)"
   ]
  },
  {
   "cell_type": "markdown",
   "metadata": {},
   "source": [
    "Compute dialect enrollment"
   ]
  },
  {
   "cell_type": "code",
   "execution_count": 4,
   "metadata": {},
   "outputs": [],
   "source": [
    "de_model = dialect_enrollment.model(train_ivecs.drop('utt-id',\n",
    "    axis='columns'), dev_ivecs.drop('utt-id', axis='columns'))"
   ]
  },
  {
   "cell_type": "markdown",
   "metadata": {},
   "source": [
    "Compute cosine distance scores for the test set"
   ]
  },
  {
   "cell_type": "code",
   "execution_count": 35,
   "metadata": {},
   "outputs": [],
   "source": [
    "def cos_sim(X, Y):\n",
    "    return 1 - scipy.spatial.distance.cosine(X, Y)"
   ]
  },
  {
   "cell_type": "code",
   "execution_count": 51,
   "metadata": {},
   "outputs": [],
   "source": [
    "predictions = test_ivecs.drop(['utt-id', 'dialect'], axis='columns').apply(\n",
    "    lambda ivec: max((((dialect, cos_sim(de_model[dialect], ivec)))\n",
    "    for dialect in de_model), key=operator.itemgetter(1))[0], axis='columns')"
   ]
  },
  {
   "cell_type": "code",
   "execution_count": 52,
   "metadata": {},
   "outputs": [
    {
     "data": {
      "text/plain": [
       "0.588495575221239"
      ]
     },
     "execution_count": 52,
     "metadata": {},
     "output_type": "execute_result"
    }
   ],
   "source": [
    "accuracy_score(predictions, test_ivecs['dialect'])"
   ]
  },
  {
   "cell_type": "code",
   "execution_count": null,
   "metadata": {},
   "outputs": [],
   "source": []
  }
 ],
 "metadata": {
  "kernelspec": {
   "display_name": "speech_emotion",
   "language": "python",
   "name": "speech_emotion"
  },
  "language_info": {
   "codemirror_mode": {
    "name": "ipython",
    "version": 3
   },
   "file_extension": ".py",
   "mimetype": "text/x-python",
   "name": "python",
   "nbconvert_exporter": "python",
   "pygments_lexer": "ipython3",
   "version": "3.6.5"
  }
 },
 "nbformat": 4,
 "nbformat_minor": 2
}
